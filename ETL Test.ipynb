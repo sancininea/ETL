{
 "cells": [
  {
   "cell_type": "markdown",
   "metadata": {},
   "source": [
    "# ETL Project"
   ]
  },
  {
   "cell_type": "code",
   "execution_count": 1,
   "metadata": {},
   "outputs": [],
   "source": [
    "#####################################################################################\n",
    "#                                                                                   #\n",
    "# Import all the needed libraries                                                   #\n",
    "#                                                                                   #\n",
    "#####################################################################################\n",
    "\n",
    "from xml_tools import get_xml, insert_xml, scrap_sat, load_xml, query_xml\n",
    "import glob\n",
    "from sqlalchemy import create_engine\n",
    "from config import usrPW\n",
    "import pandas as pd"
   ]
  },
  {
   "cell_type": "markdown",
   "metadata": {},
   "source": [
    "# Get CSV from the Tax Authority"
   ]
  },
  {
   "cell_type": "code",
   "execution_count": 2,
   "metadata": {},
   "outputs": [
    {
     "name": "stderr",
     "output_type": "stream",
     "text": [
      "C:\\Users\\elsen\\Desktop\\TEC\\Archivos clases\\ETL\\xml_tools.py:213: UserWarning: No parser was explicitly specified, so I'm using the best available HTML parser for this system (\"lxml\"). This usually isn't a problem, but if you run this code on another system, or in a different virtual environment, it may use a different parser and behave differently.\n",
      "\n",
      "The code that caused this warning is on line 213 of the file C:\\Users\\elsen\\Desktop\\TEC\\Archivos clases\\ETL\\xml_tools.py. To get rid of this warning, pass the additional argument 'features=\"lxml\"' to the BeautifulSoup constructor.\n",
      "\n",
      "  iframe_soup = BeautifulSoup(response)\n",
      "C:\\ProgramData\\Anaconda3\\lib\\site-packages\\ipykernel_launcher.py:10: DeprecationWarning: URLopener style of invoking requests is deprecated. Use newer urlopen functions/methods\n",
      "  # Remove the CWD from sys.path while we load stuff.\n"
     ]
    }
   ],
   "source": [
    "#####################################################################################\n",
    "#                                                                                   #\n",
    "# Scrap data from the Tax Authority                                                 #\n",
    "#                                                                                   #\n",
    "#####################################################################################\n",
    "\n",
    "folder =\"Resources\"\n",
    "driver=\"C:\\DRIVERS\\chromedriver.exe\"\n",
    "\n",
    "scrap_sat(folder, driver)"
   ]
  },
  {
   "cell_type": "code",
   "execution_count": 3,
   "metadata": {},
   "outputs": [
    {
     "name": "stderr",
     "output_type": "stream",
     "text": [
      "C:\\ProgramData\\Anaconda3\\lib\\site-packages\\IPython\\core\\interactiveshell.py:3220: DtypeWarning: Columns (0,1,2,3,4,5) have mixed types. Specify dtype option on import or set low_memory=False.\n",
      "  if (yield from self.run_code(code, result)):\n",
      "C:\\ProgramData\\Anaconda3\\lib\\site-packages\\pandas\\core\\indexing.py:1418: FutureWarning: \n",
      "Passing list-likes to .loc or [] with any missing label will raise\n",
      "KeyError in the future, you can use .reindex() as an alternative.\n",
      "\n",
      "See the documentation here:\n",
      "https://pandas.pydata.org/pandas-docs/stable/user_guide/indexing.html#deprecate-loc-reindex-listlike\n",
      "  return self._getitem_tuple(key)\n"
     ]
    }
   ],
   "source": [
    "#####################################################################################\n",
    "#                                                                                   #\n",
    "# Insert all the files in the database                                              #\n",
    "#                                                                                   #\n",
    "#####################################################################################\n",
    "folder =\"./Resources/*.csv\"\n",
    "usr = usrPW\n",
    "\n",
    "load_xml(folder, usr)"
   ]
  },
  {
   "cell_type": "markdown",
   "metadata": {},
   "source": [
    "# Create a XML (CFDI) database"
   ]
  },
  {
   "cell_type": "code",
   "execution_count": 4,
   "metadata": {},
   "outputs": [],
   "source": [
    "#####################################################################################\n",
    "#                                                                                   #\n",
    "# Get the data in all the files in one folder                                       #\n",
    "#                                                                                   #\n",
    "#####################################################################################\n",
    "\n",
    "filesList = glob.glob(\".\\CFDI\\*.xml\")\n",
    "\n",
    "db = get_xml(filesList)"
   ]
  },
  {
   "cell_type": "code",
   "execution_count": 5,
   "metadata": {},
   "outputs": [],
   "source": [
    "#####################################################################################\n",
    "#                                                                                   #\n",
    "# Insert the data in a PostgreSQL data base                                         #\n",
    "#                                                                                   #\n",
    "#####################################################################################\n",
    "\n",
    "insert_xml(db)"
   ]
  },
  {
   "cell_type": "markdown",
   "metadata": {},
   "source": [
    "# Report"
   ]
  },
  {
   "cell_type": "code",
   "execution_count": 6,
   "metadata": {},
   "outputs": [],
   "source": [
    "#####################################################################################\n",
    "#                                                                                   #\n",
    "# Create simple report                                                              #\n",
    "#                                                                                   #\n",
    "#####################################################################################\n",
    "a, b, c = query_xml()"
   ]
  },
  {
   "cell_type": "code",
   "execution_count": 7,
   "metadata": {},
   "outputs": [
    {
     "data": {
      "text/plain": [
       "'<table border=\"1\" class=\"table table-striped table-sm table-condensed\">  <thead>    <tr style=\"text-align: left;\">      <th>Cantidad de comprobantes</th>      <th>Total (Millones de pesos)</th>    </tr>  </thead>  <tbody>    <tr>      <td>26,322</td>      <td>$           928.37</td>    </tr>  </tbody></table>'"
      ]
     },
     "execution_count": 7,
     "metadata": {},
     "output_type": "execute_result"
    }
   ],
   "source": [
    "a"
   ]
  },
  {
   "cell_type": "code",
   "execution_count": 8,
   "metadata": {},
   "outputs": [
    {
     "data": {
      "text/plain": [
       "'<table border=\"1\" class=\"table table-striped table-sm table-condensed\">  <thead>    <tr style=\"text-align: left;\">      <th>Supuesto</th>      <th>Cantidad de comprobantes</th>      <th>Total (Millones de pesos)</th>    </tr>  </thead>  <tbody>    <tr>      <td>CONDONADOS</td>      <td>1,268</td>      <td>$            80.49</td>    </tr>    <tr>      <td>None</td>      <td>1,865</td>      <td>$            69.35</td>    </tr>    <tr>      <td>NO LOCALIZADOS</td>      <td>1,452</td>      <td>$            17.60</td>    </tr>    <tr>      <td>FIRMES</td>      <td>17</td>      <td>$              .53</td>    </tr>    <tr>      <td>EXIGIBLES</td>      <td>69</td>      <td>$              .37</td>    </tr>    <tr>      <td>CANCELADOS</td>      <td>2</td>      <td>$              .00</td>    </tr>  </tbody></table>'"
      ]
     },
     "execution_count": 8,
     "metadata": {},
     "output_type": "execute_result"
    }
   ],
   "source": [
    "b"
   ]
  },
  {
   "cell_type": "code",
   "execution_count": 9,
   "metadata": {},
   "outputs": [
    {
     "data": {
      "text/plain": [
       "'<table border=\"1\" class=\"table table-striped table-sm table-condensed\">  <thead>    <tr style=\"text-align: left;\">      <th>Proveedor</th>      <th>Supuesto</th>      <th>Cantidad de comprobantes</th>      <th>Total</th>    </tr>  </thead>  <tbody>    <tr>      <td>GNP9211244P0</td>      <td>CONDONADOS</td>      <td>12</td>      <td>$    39,277,906.04</td>    </tr>    <tr>      <td>SMN930802FN9</td>      <td>None</td>      <td>726</td>      <td>$    30,302,119.26</td>    </tr>    <tr>      <td>IMS421231I45</td>      <td>None</td>      <td>33</td>      <td>$    26,278,354.62</td>    </tr>    <tr>      <td>BNM840515VB1</td>      <td>CONDONADOS</td>      <td>77</td>      <td>$    19,704,407.03</td>    </tr>    <tr>      <td>SMN930802FN9</td>      <td>CONDONADOS</td>      <td>242</td>      <td>$    10,100,706.42</td>    </tr>    <tr>      <td>LIS120704AG9</td>      <td>NO LOCALIZADOS</td>      <td>989</td>      <td>$     8,529,388.00</td>    </tr>    <tr>      <td>ICI011204S64</td>      <td>NO LOCALIZADOS</td>      <td>271</td>      <td>$     5,245,018.66</td>    </tr>    <tr>      <td>FVT8305039E1</td>      <td>NO LOCALIZADOS</td>      <td>125</td>      <td>$     3,066,944.88</td>    </tr>    <tr>      <td>ICA9507256L6</td>      <td>CONDONADOS</td>      <td>426</td>      <td>$     2,484,758.40</td>    </tr>    <tr>      <td>ICA9507256L6</td>      <td>None</td>      <td>426</td>      <td>$     2,484,758.40</td>    </tr>    <tr>      <td>QCS931209G49</td>      <td>None</td>      <td>291</td>      <td>$     2,387,602.23</td>    </tr>    <tr>      <td>CNA890116SF2</td>      <td>CONDONADOS</td>      <td>7</td>      <td>$     2,126,242.00</td>    </tr>    <tr>      <td>HTM081021S51</td>      <td>CONDONADOS</td>      <td>5</td>      <td>$     1,804,420.53</td>    </tr>    <tr>      <td>AME990310DP4</td>      <td>CONDONADOS</td>      <td>7</td>      <td>$     1,750,593.70</td>    </tr>    <tr>      <td>DME9204099R6</td>      <td>None</td>      <td>2</td>      <td>$     1,727,485.40</td>    </tr>    <tr>      <td>FEH940630UG2</td>      <td>None</td>      <td>171</td>      <td>$     1,645,705.03</td>    </tr>    <tr>      <td>MAN9209143V1</td>      <td>None</td>      <td>8</td>      <td>$     1,107,489.12</td>    </tr>    <tr>      <td>QCS931209G49</td>      <td>CONDONADOS</td>      <td>97</td>      <td>$       795,867.41</td>    </tr>    <tr>      <td>PME960701GG0</td>      <td>None</td>      <td>16</td>      <td>$       677,867.75</td>    </tr>    <tr>      <td>AME880912I89</td>      <td>None</td>      <td>37</td>      <td>$       654,806.67</td>    </tr>    <tr>      <td>MTE440316E54</td>      <td>None</td>      <td>12</td>      <td>$       615,320.28</td>    </tr>    <tr>      <td>OAV080709469</td>      <td>NO LOCALIZADOS</td>      <td>43</td>      <td>$       432,987.39</td>    </tr>    <tr>      <td>MTO930218QSA</td>      <td>CONDONADOS</td>      <td>25</td>      <td>$       346,294.40</td>    </tr>    <tr>      <td>AMS950419EG4</td>      <td>None</td>      <td>2</td>      <td>$       340,000.28</td>    </tr>    <tr>      <td>MAV810430NCA</td>      <td>CONDONADOS</td>      <td>58</td>      <td>$       325,744.76</td>    </tr>    <tr>      <td>MAV810430NCA</td>      <td>EXIGIBLES</td>      <td>58</td>      <td>$       325,744.76</td>    </tr>    <tr>      <td>MAV810430NCA</td>      <td>None</td>      <td>58</td>      <td>$       325,744.76</td>    </tr>    <tr>      <td>ISD950921HE5</td>      <td>None</td>      <td>33</td>      <td>$       324,508.32</td>    </tr>    <tr>      <td>EAM001231D51</td>      <td>CONDONADOS</td>      <td>16</td>      <td>$       318,374.80</td>    </tr>    <tr>      <td>VAU050603TB0</td>      <td>NO LOCALIZADOS</td>      <td>10</td>      <td>$       306,437.78</td>    </tr>    <tr>      <td>SEM120116LR4</td>      <td>FIRMES</td>      <td>7</td>      <td>$       243,946.83</td>    </tr>    <tr>      <td>NAS161108UXA</td>      <td>FIRMES</td>      <td>3</td>      <td>$       241,280.00</td>    </tr>    <tr>      <td>GYR880101TL1</td>      <td>None</td>      <td>3</td>      <td>$       233,368.80</td>    </tr>    <tr>      <td>RDI841003QJ4</td>      <td>CONDONADOS</td>      <td>39</td>      <td>$       217,120.12</td>    </tr>    <tr>      <td>ZSE950306M48</td>      <td>CONDONADOS</td>      <td>3</td>      <td>$       205,611.16</td>    </tr>    <tr>      <td>AMS950419EG4</td>      <td>CONDONADOS</td>      <td>1</td>      <td>$       170,000.14</td>    </tr>    <tr>      <td>BSM970519DU8</td>      <td>CONDONADOS</td>      <td>77</td>      <td>$       165,069.32</td>    </tr>    <tr>      <td>LAG020121NR2</td>      <td>CONDONADOS</td>      <td>3</td>      <td>$       144,337.73</td>    </tr>    <tr>      <td>MAR911106K33</td>      <td>CONDONADOS</td>      <td>68</td>      <td>$       124,212.61</td>    </tr>    <tr>      <td>EME860425RB9</td>      <td>CONDONADOS</td>      <td>6</td>      <td>$       119,944.00</td>    </tr>    <tr>      <td>SIG020524PW5</td>      <td>CONDONADOS</td>      <td>1</td>      <td>$       116,909.47</td>    </tr>    <tr>      <td>MTE440316E54</td>      <td>CONDONADOS</td>      <td>2</td>      <td>$       102,553.38</td>    </tr>    <tr>      <td>PAV910724HWA</td>      <td>None</td>      <td>4</td>      <td>$        82,335.00</td>    </tr>    <tr>      <td>ASG950531ID1</td>      <td>None</td>      <td>3</td>      <td>$        53,805.54</td>    </tr>    <tr>      <td>MAMN691019DT4</td>      <td>None</td>      <td>10</td>      <td>$        45,485.68</td>    </tr>    <tr>      <td>EMA0811121EA</td>      <td>FIRMES</td>      <td>1</td>      <td>$        40,036.72</td>    </tr>    <tr>      <td>PSI970127141</td>      <td>EXIGIBLES</td>      <td>9</td>      <td>$        33,104.56</td>    </tr>    <tr>      <td>CJU870701JL2</td>      <td>CONDONADOS</td>      <td>7</td>      <td>$        31,424.40</td>    </tr>    <tr>      <td>CFA950628CAA</td>      <td>CONDONADOS</td>      <td>53</td>      <td>$        31,258.93</td>    </tr>    <tr>      <td>CSM960528CC4</td>      <td>None</td>      <td>2</td>      <td>$        18,694.56</td>    </tr>    <tr>      <td>VEI880309AL2</td>      <td>None</td>      <td>2</td>      <td>$        15,260.96</td>    </tr>    <tr>      <td>MAB100526MV9</td>      <td>NO LOCALIZADOS</td>      <td>12</td>      <td>$        13,985.74</td>    </tr>    <tr>      <td>TMA080131TC0</td>      <td>CONDONADOS</td>      <td>8</td>      <td>$         9,512.00</td>    </tr>    <tr>      <td>CAT100413AJ2</td>      <td>EXIGIBLES</td>      <td>2</td>      <td>$         6,844.00</td>    </tr>    <tr>      <td>ALU830902ST5</td>      <td>None</td>      <td>3</td>      <td>$         6,093.18</td>    </tr>    <tr>      <td>ASE901221SM4</td>      <td>CONDONADOS</td>      <td>1</td>      <td>$         4,669.00</td>    </tr>    <tr>      <td>ASE901221SM4</td>      <td>None</td>      <td>1</td>      <td>$         4,669.00</td>    </tr>    <tr>      <td>IME000614MU1</td>      <td>None</td>      <td>2</td>      <td>$         4,628.40</td>    </tr>    <tr>      <td>BTC920330IPA</td>      <td>CONDONADOS</td>      <td>5</td>      <td>$         4,272.12</td>    </tr>    <tr>      <td>TSO991022PB6</td>      <td>None</td>      <td>6</td>      <td>$         3,758.36</td>    </tr>    <tr>      <td>STT680705PE4</td>      <td>None</td>      <td>1</td>      <td>$         3,729.01</td>    </tr>    <tr>      <td>ISI980210RR9</td>      <td>CONDONADOS</td>      <td>2</td>      <td>$         2,035.01</td>    </tr>    <tr>      <td>DON840719KI5</td>      <td>None</td>      <td>2</td>      <td>$         1,920.00</td>    </tr>    <tr>      <td>TSO991022PB6</td>      <td>CONDONADOS</td>      <td>3</td>      <td>$         1,879.18</td>    </tr>    <tr>      <td>AMO980615LT8</td>      <td>CONDONADOS</td>      <td>1</td>      <td>$         1,405.92</td>    </tr>    <tr>      <td>UPS891122HV8</td>      <td>None</td>      <td>2</td>      <td>$         1,001.00</td>    </tr>    <tr>      <td>CAT970520QF8</td>      <td>NO LOCALIZADOS</td>      <td>1</td>      <td>$           986.00</td>    </tr>    <tr>      <td>RFT070626I1A</td>      <td>FIRMES</td>      <td>1</td>      <td>$           962.00</td>    </tr>    <tr>      <td>GOVJ401215AN4</td>      <td>FIRMES</td>      <td>3</td>      <td>$           884.99</td>    </tr>    <tr>      <td>PAC8907264G0</td>      <td>CONDONADOS</td>      <td>8</td>      <td>$           733.00</td>    </tr>    <tr>      <td>GOGA6103153W4</td>      <td>CANCELADOS</td>      <td>2</td>      <td>$           664.00</td>    </tr>    <tr>      <td>ICR9305317G4</td>      <td>None</td>      <td>2</td>      <td>$           534.02</td>    </tr>    <tr>      <td>SCG820209HP4</td>      <td>CONDONADOS</td>      <td>1</td>      <td>$           461.30</td>    </tr>    <tr>      <td>CFC110121742</td>      <td>None</td>      <td>1</td>      <td>$           450.00</td>    </tr>    <tr>      <td>CFC110121742</td>      <td>CONDONADOS</td>      <td>1</td>      <td>$           450.00</td>    </tr>    <tr>      <td>PGD1011168G4</td>      <td>CONDONADOS</td>      <td>1</td>      <td>$           330.00</td>    </tr>    <tr>      <td>DEM8801152E9</td>      <td>None</td>      <td>1</td>      <td>$           325.88</td>    </tr>    <tr>      <td>CBE1301313V6</td>      <td>FIRMES</td>      <td>1</td>      <td>$           300.00</td>    </tr>    <tr>      <td>ICR9305317G4</td>      <td>CONDONADOS</td>      <td>1</td>      <td>$           267.01</td>    </tr>    <tr>      <td>CPF6307036N8</td>      <td>None</td>      <td>4</td>      <td>$           237.82</td>    </tr>    <tr>      <td>PTP110816P15</td>      <td>CONDONADOS</td>      <td>1</td>      <td>$           237.50</td>    </tr>    <tr>      <td>GAS9404199I6</td>      <td>None</td>      <td>1</td>      <td>$           224.00</td>    </tr>    <tr>      <td>PCA970606S51</td>      <td>CONDONADOS</td>      <td>1</td>      <td>$           214.76</td>    </tr>    <tr>      <td>BARJ820205RE8</td>      <td>NO LOCALIZADOS</td>      <td>1</td>      <td>$           202.86</td>    </tr>    <tr>      <td>PCE1710038M4</td>      <td>FIRMES</td>      <td>1</td>      <td>$            77.00</td>    </tr>    <tr>      <td>TCH850701RM1</td>      <td>CONDONADOS</td>      <td>2</td>      <td>$            71.70</td>    </tr>  </tbody></table>'"
      ]
     },
     "execution_count": 9,
     "metadata": {},
     "output_type": "execute_result"
    }
   ],
   "source": [
    "c"
   ]
  }
 ],
 "metadata": {
  "kernelspec": {
   "display_name": "Python 3",
   "language": "python",
   "name": "python3"
  },
  "language_info": {
   "codemirror_mode": {
    "name": "ipython",
    "version": 3
   },
   "file_extension": ".py",
   "mimetype": "text/x-python",
   "name": "python",
   "nbconvert_exporter": "python",
   "pygments_lexer": "ipython3",
   "version": "3.7.3"
  }
 },
 "nbformat": 4,
 "nbformat_minor": 2
}
